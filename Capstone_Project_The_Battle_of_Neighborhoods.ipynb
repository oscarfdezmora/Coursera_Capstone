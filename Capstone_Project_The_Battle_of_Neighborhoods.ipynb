{
  "nbformat": 4,
  "nbformat_minor": 0,
  "metadata": {
    "colab": {
      "name": "Capstone Project - The Battle of Neighborhoods",
      "provenance": [],
      "authorship_tag": "ABX9TyOXWw3asrS+0qG2eoedt1cE",
      "include_colab_link": true
    },
    "kernelspec": {
      "name": "python3",
      "display_name": "Python 3"
    }
  },
  "cells": [
    {
      "cell_type": "markdown",
      "metadata": {
        "id": "view-in-github",
        "colab_type": "text"
      },
      "source": [
        "<a href=\"https://colab.research.google.com/github/oscarfdezmora/Coursera_Capstone/blob/master/Capstone_Project_The_Battle_of_Neighborhoods.ipynb\" target=\"_parent\"><img src=\"https://colab.research.google.com/assets/colab-badge.svg\" alt=\"Open In Colab\"/></a>"
      ]
    },
    {
      "cell_type": "markdown",
      "metadata": {
        "id": "KDwEu6YFNYn3",
        "colab_type": "text"
      },
      "source": [
        "# **The problem**\n",
        "\n",
        "A firm of medical supplies wants to open a new pharmacy in Toronto, and is interested in looking for new opportunities in North York.  \n",
        "\n",
        "Taking into account the density of this kind of commerces in the area, we will offer a set most likely boroughs to open their store. \n",
        "\n",
        "This kind of study would be suitable for profiling any kind of store or venue in a sets of address, by means of geospatial tools such as Foursquare or Google Maps."
      ]
    },
    {
      "cell_type": "markdown",
      "metadata": {
        "id": "b44JoGmtQnIT",
        "colab_type": "text"
      },
      "source": [
        "# **The Data**\n",
        "\n",
        "We will focus on thos nighborhoods which are address in **North York, Toronto**. This locations will be provided by the postal code information settled in Wikipedia (source: [List of postal codes of Canada: M](https://www.wikiwand.com/en/List_of_postal_codes_of_Canada:_M))\n",
        "\n",
        "The **Foursquare API** will be use to find locations and look for those area which lack of pharmacies in the nearbies\n",
        "\n"
      ]
    },
    {
      "cell_type": "code",
      "metadata": {
        "id": "3TAL3Rg5Q5eq",
        "colab_type": "code",
        "colab": {}
      },
      "source": [
        ""
      ],
      "execution_count": null,
      "outputs": []
    }
  ]
}