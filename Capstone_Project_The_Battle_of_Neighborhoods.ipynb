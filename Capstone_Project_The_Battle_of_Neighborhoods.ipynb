{
  "nbformat": 4,
  "nbformat_minor": 0,
  "metadata": {
    "colab": {
      "name": "Capstone Project - The Battle of Neighborhoods",
      "provenance": [],
      "authorship_tag": "ABX9TyOMJwbtjsmjHaVU0v4Cj0BC",
      "include_colab_link": true
    },
    "kernelspec": {
      "name": "python3",
      "display_name": "Python 3"
    }
  },
  "cells": [
    {
      "cell_type": "markdown",
      "metadata": {
        "id": "view-in-github",
        "colab_type": "text"
      },
      "source": [
        "<a href=\"https://colab.research.google.com/github/oscarfdezmora/Coursera_Capstone/blob/master/Capstone_Project_The_Battle_of_Neighborhoods.ipynb\" target=\"_parent\"><img src=\"https://colab.research.google.com/assets/colab-badge.svg\" alt=\"Open In Colab\"/></a>"
      ]
    },
    {
      "cell_type": "markdown",
      "metadata": {
        "id": "KDwEu6YFNYn3",
        "colab_type": "text"
      },
      "source": [
        "# **The problem**\n",
        "\n",
        "A firm of medical supplies wants to open a new pharmacy in Toronto, and is interested in looking for new opportunities Scarborough.  \n",
        "\n",
        "Taking into account the density of this kind of commerces in the area, we will offer a set most likely boroughs to open their store. \n",
        "\n",
        "This kind of study would be suitable for profiling any kind of store or venue in a sets of address, by means of geospatial tools such as Foursquare or Google Maps."
      ]
    },
    {
      "cell_type": "markdown",
      "metadata": {
        "id": "b44JoGmtQnIT",
        "colab_type": "text"
      },
      "source": [
        "# **The Data**\n",
        "\n",
        "We will focus on thos nighborhoods which are address in **North York, Toronto**. This locations will be provided by the postal code information settled in Wikipedia (source: [List of postal codes of Canada: M](https://www.wikiwand.com/en/List_of_postal_codes_of_Canada:_M))\n",
        "\n",
        "The **Foursquare API** will be use to find locations and look for those area which lack of pharmacies in the nearbies\n",
        "\n"
      ]
    },
    {
      "cell_type": "markdown",
      "metadata": {
        "id": "oAtHR1JCVelF",
        "colab_type": "text"
      },
      "source": [
        "# **Data Preparation**\n"
      ]
    },
    {
      "cell_type": "markdown",
      "metadata": {
        "id": "QzhhAOxFVrnQ",
        "colab_type": "text"
      },
      "source": [
        "Python libraries and dependencies"
      ]
    },
    {
      "cell_type": "code",
      "metadata": {
        "id": "yLvWabxGVqJy",
        "colab_type": "code",
        "colab": {}
      },
      "source": [
        "!pip install geocoder\n",
        "!pip install folium"
      ],
      "execution_count": null,
      "outputs": []
    },
    {
      "cell_type": "code",
      "metadata": {
        "id": "v5IHSPrAV0lV",
        "colab_type": "code",
        "colab": {}
      },
      "source": [
        "import pandas as pd\n",
        "import requests\n",
        "import numpy as np\n",
        "import geocoder\n",
        "import folium\n",
        "import requests \n",
        "import matplotlib.cm as cm\n",
        "import matplotlib.colors as colors\n",
        "import json\n",
        "import xml\n",
        "import matplotlib.pyplot as plt\n",
        "%matplotlib inline\n",
        "\n",
        "from pandas.io.json import json_normalize \n",
        "from sklearn.cluster import KMeans\n",
        "from geopy.geocoders import Nominatim \n",
        "from bs4 import BeautifulSoup\n",
        "\n",
        "pd.set_option('display.max_columns', None)\n",
        "pd.set_option('display.max_rows', None)"
      ],
      "execution_count": 30,
      "outputs": []
    },
    {
      "cell_type": "markdown",
      "metadata": {
        "id": "uSxaOv8FV-pn",
        "colab_type": "text"
      },
      "source": [
        "Data Extraction and Cleaning\n"
      ]
    },
    {
      "cell_type": "code",
      "metadata": {
        "id": "E6YgZKu6V32O",
        "colab_type": "code",
        "colab": {}
      },
      "source": [
        "## Get Data from Wikipedia\n",
        "df = pd.read_html('https://en.wikipedia.org/wiki/List_of_postal_codes_of_Canada:_M')[0]\n",
        "df.head()"
      ],
      "execution_count": null,
      "outputs": []
    },
    {
      "cell_type": "code",
      "metadata": {
        "id": "dkLq0y7RWQZF",
        "colab_type": "code",
        "colab": {}
      },
      "source": [
        "# Only process the cells that have an assigned borough. Ignore cells with a borough that is Not assigned.\n",
        "df = df[df.Borough != 'Not assigned']\n",
        "df.head()"
      ],
      "execution_count": null,
      "outputs": []
    },
    {
      "cell_type": "code",
      "metadata": {
        "id": "rYCpdtz6WQ7_",
        "colab_type": "code",
        "colab": {}
      },
      "source": [
        "# More than one neighborhood can exist in one postal code area. For example, in the table on the Wikipedia page, you will notice that M5A is listed twice and has two neighborhoods: Harbourfront and Regent Park. These two rows will be combined into one row with the neighborhoods separated with a comma as shown in row 11 in the above table.\n",
        "df = df.groupby(['Postal Code', 'Borough'])['Neighborhood'].apply(list).apply(lambda x:', '.join(x)).to_frame().reset_index()\n",
        "df.head()"
      ],
      "execution_count": null,
      "outputs": []
    },
    {
      "cell_type": "code",
      "metadata": {
        "id": "XND5dtSSWToG",
        "colab_type": "code",
        "colab": {}
      },
      "source": [
        "# If a cell has a borough but a Not assigned neighborhood, then the neighborhood will be the same as the borough. So for the 9th cell in the table on the Wikipedia page, the value of the Borough and the Neighborhood columns will be Queen's Park.\n",
        "for index, row in df.iterrows():\n",
        "    if row['Neighborhood'] == 'Not assigned':\n",
        "        row['Neighborhood'] = row['Borough']"
      ],
      "execution_count": 34,
      "outputs": []
    },
    {
      "cell_type": "code",
      "metadata": {
        "id": "LrxpEjoWWgIE",
        "colab_type": "code",
        "colab": {}
      },
      "source": [
        ""
      ],
      "execution_count": null,
      "outputs": []
    }
  ]
}